{
 "cells": [
  {
   "cell_type": "code",
   "execution_count": 1,
   "metadata": {},
   "outputs": [],
   "source": [
    "from bs4 import BeautifulSoup"
   ]
  },
  {
   "cell_type": "code",
   "execution_count": 3,
   "metadata": {},
   "outputs": [],
   "source": [
    "html_text = '''\n",
    "<html>\n",
    "<body>\n",
    "<h1 id=\"title\">자연어 처리 입문 강의</h1>\n",
    "<p id=\"contents\">코드 구현을 중심으로 진행합니다.</p>\n",
    "</body><html>\n",
    "'''"
   ]
  },
  {
   "cell_type": "code",
   "execution_count": 4,
   "metadata": {},
   "outputs": [],
   "source": [
    "soup = BeautifulSoup(html_text, 'lxml')"
   ]
  },
  {
   "cell_type": "code",
   "execution_count": 5,
   "metadata": {},
   "outputs": [
    {
     "data": {
      "text/plain": [
       "<html>\n",
       "<body>\n",
       "<h1 id=\"title\">자연어 처리 입문 강의</h1>\n",
       "<p id=\"contents\">코드 구현을 중심으로 진행합니다.</p>\n",
       "</body>\n",
       "</html>"
      ]
     },
     "execution_count": 5,
     "metadata": {},
     "output_type": "execute_result"
    }
   ],
   "source": [
    "soup"
   ]
  },
  {
   "cell_type": "code",
   "execution_count": 6,
   "metadata": {},
   "outputs": [
    {
     "name": "stdout",
     "output_type": "stream",
     "text": [
      "html:\n",
      "<html>\n",
      "<body>\n",
      "<h1 id=\"title\">자연어 처리 입문 강의</h1>\n",
      "<p id=\"contents\">코드 구현을 중심으로 진행합니다.</p>\n",
      "</body>\n",
      "</html>\n"
     ]
    }
   ],
   "source": [
    "print(f'html:\\n{soup.html}')"
   ]
  },
  {
   "cell_type": "markdown",
   "metadata": {},
   "source": [
    "soup = BeautifulSoup(text, mode) #mode: 'html', 'lxml'   \n",
    "result = soup.find(element = name) #e.g. soup.find(id='h1')   \n",
    "   \n",
    "soup = BeautifulSoup(text, mode)\n",
    "result = soup.fine_all(element = name_ #e.g. soup.find_all(id='h1')"
   ]
  },
  {
   "cell_type": "code",
   "execution_count": null,
   "metadata": {},
   "outputs": [],
   "source": []
  }
 ],
 "metadata": {
  "kernelspec": {
   "display_name": "Python 3",
   "language": "python",
   "name": "python3"
  },
  "language_info": {
   "codemirror_mode": {
    "name": "ipython",
    "version": 3
   },
   "file_extension": ".py",
   "mimetype": "text/x-python",
   "name": "python",
   "nbconvert_exporter": "python",
   "pygments_lexer": "ipython3",
   "version": "3.8.5"
  }
 },
 "nbformat": 4,
 "nbformat_minor": 4
}
