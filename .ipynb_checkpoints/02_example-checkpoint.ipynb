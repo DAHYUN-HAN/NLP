{
 "cells": [
  {
   "cell_type": "code",
   "execution_count": 1,
   "metadata": {},
   "outputs": [],
   "source": [
    "from bs4 import BeautifulSoup\n",
    "import urllib.request as req"
   ]
  },
  {
   "cell_type": "code",
   "execution_count": 4,
   "metadata": {},
   "outputs": [],
   "source": [
    "url = 'https://github.com/DAHYUN-HAN'"
   ]
  },
  {
   "cell_type": "code",
   "execution_count": 9,
   "metadata": {},
   "outputs": [
    {
     "name": "stdout",
     "output_type": "stream",
     "text": [
      "0 <img alt=\"Avatar\" class=\"avatar avatar-user width-full border bg-white\" height=\"260\" src=\"https://avatars.githubusercontent.com/u/45094929?s=460&amp;u=7f30cd665b5699d31569e557f71918a0664e06fb&amp;v=4\" style=\"height:auto;\" width=\"260\"/>\n"
     ]
    }
   ],
   "source": [
    "with req.urlopen(url) as res:\n",
    "    soup = BeautifulSoup(res, 'lxml')\n",
    "    results = soup.select('div > a > img')\n",
    "    for idx, result in enumerate(results):\n",
    "        print(idx, result)"
   ]
  },
  {
   "cell_type": "code",
   "execution_count": null,
   "metadata": {},
   "outputs": [],
   "source": []
  }
 ],
 "metadata": {
  "kernelspec": {
   "display_name": "Python 3",
   "language": "python",
   "name": "python3"
  },
  "language_info": {
   "codemirror_mode": {
    "name": "ipython",
    "version": 3
   },
   "file_extension": ".py",
   "mimetype": "text/x-python",
   "name": "python",
   "nbconvert_exporter": "python",
   "pygments_lexer": "ipython3",
   "version": "3.8.5"
  }
 },
 "nbformat": 4,
 "nbformat_minor": 4
}
